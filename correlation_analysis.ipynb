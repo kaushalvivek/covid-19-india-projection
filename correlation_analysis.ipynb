{
 "cells": [
  {
   "cell_type": "code",
   "execution_count": 32,
   "metadata": {},
   "outputs": [],
   "source": [
    "#imports\n",
    "import pandas as pd\n",
    "import matplotlib.pyplot as plt\n",
    "from scipy.stats import wilcoxon, ttest_ind, normaltest, shapiro\n",
    "from scipy.stats import pearsonr"
   ]
  },
  {
   "cell_type": "code",
   "execution_count": 33,
   "metadata": {},
   "outputs": [],
   "source": [
    "df = pd.read_excel(\"consolidated.xlsx\",index_col=0)"
   ]
  },
  {
   "cell_type": "code",
   "execution_count": 34,
   "metadata": {},
   "outputs": [],
   "source": [
    "list_params = [\"percent_asthma\",\"TB cases per 100,000\",\"Population Density (per sq. Mile)\",\"Adults 55-64\",\"65+\",\n",
    "              \"Median Age\",\"% High school graduate\",\"HDI\",\"Diabetes_Percentage\",\"Percentage_Hypertension\",\n",
    "               \"HIV_percentage\",\"totaltestresults\"]"
   ]
  },
  {
   "cell_type": "code",
   "execution_count": 35,
   "metadata": {},
   "outputs": [
    {
     "name": "stdout",
     "output_type": "stream",
     "text": [
      "percent_asthma 0.1933895681086257\n",
      "TB cases per 100,000 -0.06540675545202995\n",
      "Population Density (per sq. Mile) 0.030329850845471292\n",
      "Adults 55-64 0.14568552550755146\n",
      "65+ -0.03343734718781823\n",
      "Median Age 0.15570314178170758\n",
      "% High school graduate -0.0914270506183145\n",
      "HDI 0.038498895960481526\n",
      "Diabetes_Percentage 0.09416146320442483\n",
      "Percentage_Hypertension 0.0432802542854746\n",
      "HIV_percentage 0.04850926851909734\n",
      "totaltestresults 0.002681454123029456\n"
     ]
    }
   ],
   "source": [
    "corr_coeffs = {}\n",
    "for param in list_params:\n",
    "    corr, _ = pearsonr(df['frac_deaths'].tolist(),df[param].tolist())\n",
    "    corr_coeffs[param] = corr\n",
    "    print(param,corr)"
   ]
  },
  {
   "cell_type": "code",
   "execution_count": 36,
   "metadata": {},
   "outputs": [],
   "source": [
    "df2 = pd.DataFrame(corr_coeffs,index=[0])\n",
    "df2.to_excel(\"corr_coefficients_frac_deaths.xlsx\")"
   ]
  },
  {
   "cell_type": "code",
   "execution_count": 37,
   "metadata": {},
   "outputs": [
    {
     "name": "stdout",
     "output_type": "stream",
     "text": [
      "percent_asthma 0.058212840374107094\n",
      "TB cases per 100,000 0.017277303879828815\n",
      "Population Density (per sq. Mile) 0.23356448260368148\n",
      "Adults 55-64 0.10637865107589517\n",
      "65+ -0.10437399457690734\n",
      "Median Age 0.0906798314557497\n",
      "% High school graduate -0.07982810539816733\n",
      "HDI 0.043478074295266664\n",
      "Diabetes_Percentage -0.08867021927323357\n",
      "Percentage_Hypertension -0.10912295590255376\n",
      "HIV_percentage 0.16737424835140086\n",
      "totaltestresults -0.035596678300466054\n"
     ]
    }
   ],
   "source": [
    "corr_coeffs = {}\n",
    "for param in list_params:\n",
    "    corr, _ = pearsonr(df['cases_per_100K'].tolist(),df[param].tolist())\n",
    "    corr_coeffs[param] = corr\n",
    "    print(param,corr)"
   ]
  },
  {
   "cell_type": "code",
   "execution_count": 38,
   "metadata": {},
   "outputs": [],
   "source": [
    "df2 = pd.DataFrame(corr_coeffs,index=[0])\n",
    "df2.to_excel(\"corr_coefficients_cases_per_100K.xlsx\")"
   ]
  }
 ],
 "metadata": {
  "kernelspec": {
   "display_name": "Python 3",
   "language": "python",
   "name": "python3"
  },
  "language_info": {
   "codemirror_mode": {
    "name": "ipython",
    "version": 3
   },
   "file_extension": ".py",
   "mimetype": "text/x-python",
   "name": "python",
   "nbconvert_exporter": "python",
   "pygments_lexer": "ipython3",
   "version": "3.6.5"
  }
 },
 "nbformat": 4,
 "nbformat_minor": 2
}
