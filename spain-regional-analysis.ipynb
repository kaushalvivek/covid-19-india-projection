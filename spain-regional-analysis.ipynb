{
 "cells": [
  {
   "cell_type": "code",
   "execution_count": 46,
   "metadata": {},
   "outputs": [],
   "source": [
    "#imports\n",
    "import pandas as pd\n",
    "import matplotlib.pyplot as plt\n",
    "from scipy.stats import wilcoxon, ttest_ind, normaltest, shapiro\n",
    "from scipy.stats import pearsonr"
   ]
  },
  {
   "cell_type": "code",
   "execution_count": 32,
   "metadata": {},
   "outputs": [],
   "source": [
    "# loading datasets\n",
    "deaths = pd.read_csv('./spain-region-data/deaths.csv')\n",
    "hospitalized = pd.read_csv('./spain-region-data/hospitalized.csv')\n",
    "recovered = pd.read_csv('./spain-region-data/recovered.csv')\n",
    "cases = pd.read_csv('./spain-region-data/cases.csv')\n",
    "icu = pd.read_csv('./spain-region-data/icu.csv')\n",
    "demographics = pd.read_csv('./spain-region-data/demographics.csv')"
   ]
  },
  {
   "cell_type": "code",
   "execution_count": 33,
   "metadata": {},
   "outputs": [
    {
     "data": {
      "text/plain": [
       "<matplotlib.legend.Legend at 0x7f93ea554048>"
      ]
     },
     "execution_count": 33,
     "metadata": {},
     "output_type": "execute_result"
    },
    {
     "data": {
      "image/png": "[encoded data removed]",
      "text/plain": [
       "<Figure size 432x288 with 1 Axes>"
      ]
     },
     "metadata": {},
     "output_type": "display_data"
    }
   ],
   "source": [
    "# plotting demographics\n",
    "plt.figure()\n",
    "demographics.set_index('CCAA')['avg_age'].plot()\n",
    "plt.legend(loc='best')"
   ]
  },
  {
   "cell_type": "code",
   "execution_count": 34,
   "metadata": {},
   "outputs": [
    {
     "name": "stderr",
     "output_type": "stream",
     "text": [
      "/home/ayush/anaconda3/lib/python3.6/site-packages/ipykernel_launcher.py:6: SettingWithCopyWarning: \n",
      "A value is trying to be set on a copy of a slice from a DataFrame.\n",
      "Try using .loc[row_indexer,col_indexer] = value instead\n",
      "\n",
      "See the caveats in the documentation: http://pandas.pydata.org/pandas-docs/stable/indexing.html#indexing-view-versus-copy\n",
      "  \n",
      "/home/ayush/anaconda3/lib/python3.6/site-packages/ipykernel_launcher.py:7: SettingWithCopyWarning: \n",
      "A value is trying to be set on a copy of a slice from a DataFrame.\n",
      "Try using .loc[row_indexer,col_indexer] = value instead\n",
      "\n",
      "See the caveats in the documentation: http://pandas.pydata.org/pandas-docs/stable/indexing.html#indexing-view-versus-copy\n",
      "  import sys\n",
      "/home/ayush/anaconda3/lib/python3.6/site-packages/ipykernel_launcher.py:8: SettingWithCopyWarning: \n",
      "A value is trying to be set on a copy of a slice from a DataFrame.\n",
      "Try using .loc[row_indexer,col_indexer] = value instead\n",
      "\n",
      "See the caveats in the documentation: http://pandas.pydata.org/pandas-docs/stable/indexing.html#indexing-view-versus-copy\n",
      "  \n"
     ]
    }
   ],
   "source": [
    "# New dataframe for totals case calculation\n",
    "totals = cases.loc[cases['date']=='2020-04-15']\n",
    "totals['total']\n",
    "del totals['date']\n",
    "totals.columns=['code','CCAA','cases']\n",
    "totals['deaths']= deaths.loc[deaths['date']=='2020-04-15']['total'].tolist()\n",
    "totals['hospitalized']= hospitalized.loc[hospitalized['date']=='2020-04-15']['total'].tolist()\n",
    "totals['icu']= icu.loc[icu['date']=='2020-04-15']['total'].tolist()\n",
    "# totals['hospitalized'].loc['979':] = totals['hospitalized'].sum()"
   ]
  },
  {
   "cell_type": "code",
   "execution_count": 41,
   "metadata": {},
   "outputs": [
    {
     "name": "stdout",
     "output_type": "stream",
     "text": [
      "                    code   cases  deaths  hospitalized     icu  \\\n",
      "CCAA                                                             \n",
      "Andalucía              1   10595     865        5147.0   665.0   \n",
      "Aragón                 2    4338     514        2006.0   282.0   \n",
      "Asturias               3    2096     166        1387.0   114.0   \n",
      "Baleares               4    1606     125         857.0   149.0   \n",
      "Canarias               5    1975     104         781.0   152.0   \n",
      "Cantabria              6    1823     132         873.0    76.0   \n",
      "Castilla-La Mancha     8   14680    1755        7896.0   495.0   \n",
      "Castilla y León        7   13697    1337        6306.0   306.0   \n",
      "Cataluña               9   36505    3756       23372.0  2789.0   \n",
      "Ceuta                 18      98       4           9.0     4.0   \n",
      "C. Valenciana         10    9424     945        4465.0   588.0   \n",
      "Extremadura           11    2762     342        1155.0   109.0   \n",
      "Galicia               12    7708     299        2471.0   128.0   \n",
      "Madrid                13   49526    6724       10116.0  1244.0   \n",
      "Melilla               19     102       2          43.0     3.0   \n",
      "Murcia                14    1520     109         574.0    97.0   \n",
      "Navarra               15    4246     252        1731.0   124.0   \n",
      "País Vasco            16   11475     902        5750.0   471.0   \n",
      "La Rioja              17    3457     246        1182.0    75.0   \n",
      "Total                  0  177633   18579       76121.0  7871.0   \n",
      "\n",
      "                    frac_hospitalized  frac_deaths  frac_icu  avg_age  \\\n",
      "CCAA                                                                    \n",
      "Andalucía                    0.485795     0.081642  0.062765     41.1   \n",
      "Aragón                       0.462425     0.118488  0.065007     44.2   \n",
      "Asturias                     0.661737     0.079198  0.054389     47.6   \n",
      "Baleares                     0.533624     0.077833  0.092777     40.6   \n",
      "Canarias                     0.395443     0.052658  0.076962     42.6   \n",
      "Cantabria                    0.478881     0.072408  0.041690     41.5   \n",
      "Castilla-La Mancha           0.537875     0.119550  0.033719     44.8   \n",
      "Castilla y León              0.460393     0.097613  0.022341     46.9   \n",
      "Cataluña                     0.640241     0.102890  0.076400     42.4   \n",
      "Ceuta                        0.091837     0.040816  0.040816     42.1   \n",
      "C. Valenciana                0.473790     0.100276  0.062394     36.5   \n",
      "Extremadura                  0.418175     0.123823  0.039464     43.6   \n",
      "Galicia                      0.320576     0.038791  0.016606     46.5   \n",
      "Madrid                       0.204256     0.135767  0.025118     43.7   \n",
      "Melilla                      0.421569     0.019608  0.029412     41.6   \n",
      "Murcia                       0.377632     0.071711  0.063816     34.9   \n",
      "Navarra                      0.407678     0.059350  0.029204     39.7   \n",
      "País Vasco                   0.501089     0.078606  0.041046     42.6   \n",
      "La Rioja                     0.341915     0.071160  0.021695     44.7   \n",
      "Total                        0.428530     0.104592  0.044310     44.9   \n",
      "\n",
      "                    pop_density  population  \n",
      "CCAA                                         \n",
      "Andalucía                    96     8426405  \n",
      "Aragón                       27     1320794  \n",
      "Asturias                     97     1022293  \n",
      "Baleares                    226     1115999  \n",
      "Canarias                    213     4963703  \n",
      "Cantabria                   286     2127685  \n",
      "Castilla-La Mancha          109      580229  \n",
      "Castilla y León              26     2409164  \n",
      "Cataluña                     26     2026808  \n",
      "Ceuta                       237     7600065  \n",
      "C. Valenciana              4602       85144  \n",
      "Extremadura                  26     1072863  \n",
      "Galicia                      91     2701743  \n",
      "Madrid                       63      315675  \n",
      "Melilla                     819     6578079  \n",
      "Murcia                     7023       86384  \n",
      "Navarra                     131     1478509  \n",
      "País Vasco                   62      647554  \n",
      "La Rioja                    304     2199088  \n",
      "Total                        92    46722980  \n"
     ]
    },
    {
     "name": "stderr",
     "output_type": "stream",
     "text": [
      "/home/ayush/anaconda3/lib/python3.6/site-packages/ipykernel_launcher.py:2: SettingWithCopyWarning: \n",
      "A value is trying to be set on a copy of a slice from a DataFrame.\n",
      "Try using .loc[row_indexer,col_indexer] = value instead\n",
      "\n",
      "See the caveats in the documentation: http://pandas.pydata.org/pandas-docs/stable/indexing.html#indexing-view-versus-copy\n",
      "  \n",
      "/home/ayush/anaconda3/lib/python3.6/site-packages/ipykernel_launcher.py:3: SettingWithCopyWarning: \n",
      "A value is trying to be set on a copy of a slice from a DataFrame.\n",
      "Try using .loc[row_indexer,col_indexer] = value instead\n",
      "\n",
      "See the caveats in the documentation: http://pandas.pydata.org/pandas-docs/stable/indexing.html#indexing-view-versus-copy\n",
      "  This is separate from the ipykernel package so we can avoid doing imports until\n",
      "/home/ayush/anaconda3/lib/python3.6/site-packages/ipykernel_launcher.py:4: SettingWithCopyWarning: \n",
      "A value is trying to be set on a copy of a slice from a DataFrame.\n",
      "Try using .loc[row_indexer,col_indexer] = value instead\n",
      "\n",
      "See the caveats in the documentation: http://pandas.pydata.org/pandas-docs/stable/indexing.html#indexing-view-versus-copy\n",
      "  after removing the cwd from sys.path.\n",
      "/home/ayush/anaconda3/lib/python3.6/site-packages/ipykernel_launcher.py:9: SettingWithCopyWarning: \n",
      "A value is trying to be set on a copy of a slice from a DataFrame.\n",
      "Try using .loc[row_indexer,col_indexer] = value instead\n",
      "\n",
      "See the caveats in the documentation: http://pandas.pydata.org/pandas-docs/stable/indexing.html#indexing-view-versus-copy\n",
      "  if __name__ == '__main__':\n",
      "/home/ayush/anaconda3/lib/python3.6/site-packages/ipykernel_launcher.py:10: SettingWithCopyWarning: \n",
      "A value is trying to be set on a copy of a slice from a DataFrame.\n",
      "Try using .loc[row_indexer,col_indexer] = value instead\n",
      "\n",
      "See the caveats in the documentation: http://pandas.pydata.org/pandas-docs/stable/indexing.html#indexing-view-versus-copy\n",
      "  # Remove the CWD from sys.path while we load stuff.\n",
      "/home/ayush/anaconda3/lib/python3.6/site-packages/ipykernel_launcher.py:11: SettingWithCopyWarning: \n",
      "A value is trying to be set on a copy of a slice from a DataFrame.\n",
      "Try using .loc[row_indexer,col_indexer] = value instead\n",
      "\n",
      "See the caveats in the documentation: http://pandas.pydata.org/pandas-docs/stable/indexing.html#indexing-view-versus-copy\n",
      "  # This is added back by InteractiveShellApp.init_path()\n"
     ]
    }
   ],
   "source": [
    "# Calculating Fractions\n",
    "totals['frac_hospitalized'] = totals['hospitalized']/totals['cases']\n",
    "totals['frac_deaths'] = totals['deaths']/totals['cases']\n",
    "totals['frac_icu'] = totals['icu']/totals['cases']\n",
    "totals.set_index('CCAA',inplace=True)\n",
    "demographics.set_index('CCAA',inplace=True)\n",
    "\n",
    "#add demographics to database\n",
    "totals['avg_age'] = demographics['avg_age'].tolist()\n",
    "totals['pop_density'] = demographics['pop_density'].tolist()\n",
    "totals['population'] = demographics['population'].tolist()\n",
    "print(totals)"
   ]
  },
  {
   "cell_type": "code",
   "execution_count": 43,
   "metadata": {},
   "outputs": [
    {
     "name": "stdout",
     "output_type": "stream",
     "text": [
      "Cases:\n",
      "2.4581106162400883e-10\n",
      "Deaths:\n",
      "1.027919691344989e-09\n",
      "Hospitalized:\n",
      "2.2859985006559294e-10\n",
      "ICU:\n",
      "5.435764775260061e-10\n",
      "frac_deaths:\n",
      "0.8741662150912002\n",
      "frac_hospitalized:\n",
      "0.08806810744359778\n",
      "frac_icu:\n",
      "0.5086070028660516\n",
      "Age:\n",
      "0.164596591152546\n"
     ]
    }
   ],
   "source": [
    "# Normalcy Tests\n",
    "print(\"Cases:\")\n",
    "print(normaltest(totals['cases'].tolist()).pvalue)\n",
    "\n",
    "print(\"Deaths:\")\n",
    "print(normaltest(totals['deaths'].tolist()).pvalue)\n",
    "\n",
    "print(\"Hospitalized:\")\n",
    "print(normaltest(totals['hospitalized'].tolist()).pvalue)\n",
    "\n",
    "print(\"ICU:\")\n",
    "print(normaltest(totals['icu'].tolist()).pvalue)\n",
    "\n",
    "print(\"frac_deaths:\")\n",
    "print(normaltest(totals['frac_deaths'].tolist()).pvalue)\n",
    "\n",
    "print(\"frac_hospitalized:\")\n",
    "print(normaltest(totals['frac_hospitalized'].tolist()).pvalue)\n",
    "\n",
    "print(\"frac_icu:\")\n",
    "print(normaltest(totals['frac_icu'].tolist()).pvalue)\n",
    "\n",
    "print('Age:')\n",
    "print(normaltest(totals['avg_age'].tolist()).pvalue)"
   ]
  },
  {
   "cell_type": "code",
   "execution_count": 49,
   "metadata": {},
   "outputs": [
    {
     "name": "stdout",
     "output_type": "stream",
     "text": [
      "-0.42414347281813003\n",
      "0.08800424432157605\n",
      "0.15428965200350117\n",
      "0.17395331566759312\n"
     ]
    }
   ],
   "source": [
    "corr, _ = pearsonr(totals['avg_age'].tolist(), totals['frac_icu'].tolist())\n",
    "print(corr)\n",
    "corr, _ = pearsonr(totals['avg_age'].tolist(), totals['frac_hospitalized'].tolist())\n",
    "print(corr)\n",
    "corr, _ = pearsonr(totals['avg_age'].tolist(), totals['frac_deaths'].tolist())\n",
    "print(corr)\n",
    "corr, _ = pearsonr(totals['avg_age'].tolist(), totals['population'].tolist())\n",
    "print(corr)"
   ]
  },
  {
   "cell_type": "code",
   "execution_count": 26,
   "metadata": {},
   "outputs": [
    {
     "name": "stdout",
     "output_type": "stream",
     "text": [
      "Wilcoxon -- avg age and frac_icu:\n",
      "8.857457687863547e-05\n",
      "Wilcoxon -- avg age and frac_hospitalized:\n",
      "8.857457687863547e-05\n",
      "Wilcoxon -- avg age and frac_deaths:\n",
      "8.857457687863547e-05\n",
      "Wilcoxon -- avg age and population:\n",
      "8.857457687863547e-05\n"
     ]
    }
   ],
   "source": [
    "print(\"Wilcoxon -- avg age and frac_icu:\")\n",
    "print(wilcoxon(totals['avg_age'].tolist(),totals['frac_icu'].tolist()).pvalue)\n",
    "\n",
    "print(\"Wilcoxon -- avg age and frac_hospitalized:\")\n",
    "print(wilcoxon(totals['avg_age'].tolist(),totals['frac_hospitalized'].tolist()).pvalue)\n",
    "\n",
    "print(\"Wilcoxon -- avg age and frac_deaths:\")\n",
    "print(wilcoxon(totals['avg_age'].tolist(),totals['frac_deaths'].tolist()).pvalue)\n",
    "\n",
    "print(\"Wilcoxon -- avg age and population:\")\n",
    "print(wilcoxon(totals['avg_age'].tolist(),totals['population'].tolist()).pvalue)"
   ]
  },
  {
   "cell_type": "code",
   "execution_count": null,
   "metadata": {},
   "outputs": [],
   "source": []
  }
 ],
 "metadata": {
  "kernelspec": {
   "display_name": "Python 3",
   "language": "python",
   "name": "python3"
  },
  "language_info": {
   "codemirror_mode": {
    "name": "ipython",
    "version": 3
   },
   "file_extension": ".py",
   "mimetype": "text/x-python",
   "name": "python",
   "nbconvert_exporter": "python",
   "pygments_lexer": "ipython3",
   "version": "3.6.5"
  }
 },
 "nbformat": 4,
 "nbformat_minor": 2
}
