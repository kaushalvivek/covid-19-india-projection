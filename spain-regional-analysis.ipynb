{
 "cells": [
  {
   "cell_type": "code",
   "execution_count": 1,
   "metadata": {},
   "outputs": [],
   "source": [
    "#imports\n",
    "import pandas as pd\n",
    "import matplotlib.pyplot as plt"
   ]
  },
  {
   "cell_type": "code",
   "execution_count": 2,
   "metadata": {},
   "outputs": [],
   "source": [
    "# loading datasets\n",
    "deaths = pd.read_csv('./spain-region-data/deaths.csv')\n",
    "hospitalized = pd.read_csv('./spain-region-data/hospitalized.csv')\n",
    "recovered = pd.read_csv('./spain-region-data/recovered.csv')\n",
    "cases = pd.read_csv('./spain-region-data/cases.csv')\n",
    "icu = pd.read_csv('./spain-region-data/icu.csv')\n",
    "demographics = pd.read_csv('./spain-region-data/demographics.csv')"
   ]
  },
  {
   "cell_type": "code",
   "execution_count": 3,
   "metadata": {},
   "outputs": [
    {
     "data": {
      "text/plain": [
       "<matplotlib.legend.Legend at 0x115155f90>"
      ]
     },
     "execution_count": 3,
     "metadata": {},
     "output_type": "execute_result"
    },
    {
     "data": {
      "image/png": "[encoded data removed]",
      "text/plain": [
       "<Figure size 432x288 with 1 Axes>"
      ]
     },
     "metadata": {
      "needs_background": "light"
     },
     "output_type": "display_data"
    }
   ],
   "source": [
    "# plotting demographics\n",
    "plt.figure()\n",
    "demographics.set_index('CCAA')['avg_age'].plot()\n",
    "plt.legend(loc='best')"
   ]
  },
  {
   "cell_type": "code",
   "execution_count": 4,
   "metadata": {},
   "outputs": [
    {
     "name": "stderr",
     "output_type": "stream",
     "text": [
      "/usr/local/Cellar/ipython/7.8.0/libexec/vendor/lib/python3.7/site-packages/ipykernel_launcher.py:6: SettingWithCopyWarning: \n",
      "A value is trying to be set on a copy of a slice from a DataFrame.\n",
      "Try using .loc[row_indexer,col_indexer] = value instead\n",
      "\n",
      "See the caveats in the documentation: http://pandas.pydata.org/pandas-docs/stable/indexing.html#indexing-view-versus-copy\n",
      "  \n",
      "/usr/local/Cellar/ipython/7.8.0/libexec/vendor/lib/python3.7/site-packages/ipykernel_launcher.py:7: SettingWithCopyWarning: \n",
      "A value is trying to be set on a copy of a slice from a DataFrame.\n",
      "Try using .loc[row_indexer,col_indexer] = value instead\n",
      "\n",
      "See the caveats in the documentation: http://pandas.pydata.org/pandas-docs/stable/indexing.html#indexing-view-versus-copy\n",
      "  import sys\n",
      "/usr/local/Cellar/ipython/7.8.0/libexec/vendor/lib/python3.7/site-packages/ipykernel_launcher.py:8: SettingWithCopyWarning: \n",
      "A value is trying to be set on a copy of a slice from a DataFrame.\n",
      "Try using .loc[row_indexer,col_indexer] = value instead\n",
      "\n",
      "See the caveats in the documentation: http://pandas.pydata.org/pandas-docs/stable/indexing.html#indexing-view-versus-copy\n",
      "  \n"
     ]
    }
   ],
   "source": [
    "# New dataframe for totals case calculation\n",
    "totals = cases.loc[cases['date']=='2020-04-15']\n",
    "totals['total']\n",
    "del totals['date']\n",
    "totals.columns=['code','CCAA','cases']\n",
    "totals['deaths']= deaths.loc[deaths['date']=='2020-04-15']['total'].tolist()\n",
    "totals['hospitalized']= hospitalized.loc[hospitalized['date']=='2020-04-15']['total'].tolist()\n",
    "totals['icu']= icu.loc[icu['date']=='2020-04-15']['total'].tolist()\n",
    "# totals['hospitalized'].loc['979':] = totals['hospitalized'].sum()"
   ]
  },
  {
   "cell_type": "code",
   "execution_count": 6,
   "metadata": {},
   "outputs": [
    {
     "name": "stdout",
     "output_type": "stream",
     "text": [
      "     code                CCAA   cases  deaths  hospitalized     icu  \\\n",
      "48      1           Andalucía   10595     865        5147.0   665.0   \n",
      "97      2              Aragón    4338     514        2006.0   282.0   \n",
      "146     3            Asturias    2096     166        1387.0   114.0   \n",
      "195     4            Baleares    1606     125         857.0   149.0   \n",
      "244     5            Canarias    1975     104         781.0   152.0   \n",
      "293     6           Cantabria    1823     132         873.0    76.0   \n",
      "342     8  Castilla-La Mancha   14680    1755        7896.0   495.0   \n",
      "391     7     Castilla y León   13697    1337        6306.0   306.0   \n",
      "440     9            Cataluña   36505    3756       23372.0  2789.0   \n",
      "489    18               Ceuta      98       4           9.0     4.0   \n",
      "538    10       C. Valenciana    9424     945        4465.0   588.0   \n",
      "587    11         Extremadura    2762     342        1155.0   109.0   \n",
      "636    12             Galicia    7708     299        2471.0   128.0   \n",
      "685    13              Madrid   49526    6724       10116.0  1244.0   \n",
      "734    19             Melilla     102       2          43.0     3.0   \n",
      "783    14              Murcia    1520     109         574.0    97.0   \n",
      "832    15             Navarra    4246     252        1731.0   124.0   \n",
      "881    16          País Vasco   11475     902        5750.0   471.0   \n",
      "930    17            La Rioja    3457     246        1182.0    75.0   \n",
      "979     0               Total  177633   18579       76121.0  7871.0   \n",
      "\n",
      "     frac_hospitalized  frac_deaths  frac_icu  avg_age  \n",
      "48            0.485795     0.081642  0.062765      NaN  \n",
      "97            0.462425     0.118488  0.065007      NaN  \n",
      "146           0.661737     0.079198  0.054389      NaN  \n",
      "195           0.533624     0.077833  0.092777      NaN  \n",
      "244           0.395443     0.052658  0.076962      NaN  \n",
      "293           0.478881     0.072408  0.041690      NaN  \n",
      "342           0.537875     0.119550  0.033719      NaN  \n",
      "391           0.460393     0.097613  0.022341      NaN  \n",
      "440           0.640241     0.102890  0.076400      NaN  \n",
      "489           0.091837     0.040816  0.040816      NaN  \n",
      "538           0.473790     0.100276  0.062394      NaN  \n",
      "587           0.418175     0.123823  0.039464      NaN  \n",
      "636           0.320576     0.038791  0.016606      NaN  \n",
      "685           0.204256     0.135767  0.025118      NaN  \n",
      "734           0.421569     0.019608  0.029412      NaN  \n",
      "783           0.377632     0.071711  0.063816      NaN  \n",
      "832           0.407678     0.059350  0.029204      NaN  \n",
      "881           0.501089     0.078606  0.041046      NaN  \n",
      "930           0.341915     0.071160  0.021695      NaN  \n",
      "979           0.428530     0.104592  0.044310      NaN  \n"
     ]
    },
    {
     "name": "stderr",
     "output_type": "stream",
     "text": [
      "/usr/local/Cellar/ipython/7.8.0/libexec/vendor/lib/python3.7/site-packages/ipykernel_launcher.py:2: SettingWithCopyWarning: \n",
      "A value is trying to be set on a copy of a slice from a DataFrame.\n",
      "Try using .loc[row_indexer,col_indexer] = value instead\n",
      "\n",
      "See the caveats in the documentation: http://pandas.pydata.org/pandas-docs/stable/indexing.html#indexing-view-versus-copy\n",
      "  \n",
      "/usr/local/Cellar/ipython/7.8.0/libexec/vendor/lib/python3.7/site-packages/ipykernel_launcher.py:3: SettingWithCopyWarning: \n",
      "A value is trying to be set on a copy of a slice from a DataFrame.\n",
      "Try using .loc[row_indexer,col_indexer] = value instead\n",
      "\n",
      "See the caveats in the documentation: http://pandas.pydata.org/pandas-docs/stable/indexing.html#indexing-view-versus-copy\n",
      "  This is separate from the ipykernel package so we can avoid doing imports until\n",
      "/usr/local/Cellar/ipython/7.8.0/libexec/vendor/lib/python3.7/site-packages/ipykernel_launcher.py:4: SettingWithCopyWarning: \n",
      "A value is trying to be set on a copy of a slice from a DataFrame.\n",
      "Try using .loc[row_indexer,col_indexer] = value instead\n",
      "\n",
      "See the caveats in the documentation: http://pandas.pydata.org/pandas-docs/stable/indexing.html#indexing-view-versus-copy\n",
      "  after removing the cwd from sys.path.\n",
      "/usr/local/Cellar/ipython/7.8.0/libexec/vendor/lib/python3.7/site-packages/ipykernel_launcher.py:9: SettingWithCopyWarning: \n",
      "A value is trying to be set on a copy of a slice from a DataFrame.\n",
      "Try using .loc[row_indexer,col_indexer] = value instead\n",
      "\n",
      "See the caveats in the documentation: http://pandas.pydata.org/pandas-docs/stable/indexing.html#indexing-view-versus-copy\n",
      "  if __name__ == '__main__':\n"
     ]
    }
   ],
   "source": [
    "# Calculating Fractions\n",
    "totals['frac_hospitalized'] = totals['hospitalized']/totals['cases']\n",
    "totals['frac_deaths'] = totals['deaths']/totals['cases']\n",
    "totals['frac_icu'] = totals['icu']/totals['cases']\n",
    "totals.set_index('CCAA')\n",
    "demographics.set_index('CCAA')\n",
    "\n",
    "#print(demographics['avg_age'])\n",
    "totals['avg_age'] = demographics['avg_age']\n",
    "print(totals)"
   ]
  },
  {
   "cell_type": "code",
   "execution_count": null,
   "metadata": {},
   "outputs": [],
   "source": []
  }
 ],
 "metadata": {
  "kernelspec": {
   "display_name": "Python 3",
   "language": "python",
   "name": "python3"
  },
  "language_info": {
   "codemirror_mode": {
    "name": "ipython",
    "version": 3
   },
   "file_extension": ".py",
   "mimetype": "text/x-python",
   "name": "python",
   "nbconvert_exporter": "python",
   "pygments_lexer": "ipython3",
   "version": "3.7.5"
  }
 },
 "nbformat": 4,
 "nbformat_minor": 2
}
